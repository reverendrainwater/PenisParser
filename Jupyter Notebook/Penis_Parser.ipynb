{
  "nbformat": 4,
  "nbformat_minor": 0,
  "metadata": {
    "colab": {
      "name": "Penis Parser.ipynb",
      "provenance": []
    },
    "kernelspec": {
      "name": "python3",
      "display_name": "Python 3"
    }
  },
  "cells": [
    {
      "cell_type": "markdown",
      "metadata": {
        "id": "7NYsDjXeK7sN",
        "colab_type": "text"
      },
      "source": [
        "# Penis Parser\n",
        "\n",
        "You can use all the power of the Google Servers executing this python notebook in colab with this url.\n",
        "\n",
        "[https://colab.research.google.com/drive/1rjEfTrJrj32nTVD89VUkPM64PcOrWIM-](https://colab.research.google.com/drive/1rjEfTrJrj32nTVD89VUkPM64PcOrWIM-)\n",
        "\n",
        "It's recommended to use the TPU enviroment and the many power option to reach the computational cost of this function."
      ]
    },
    {
      "cell_type": "code",
      "metadata": {
        "id": "ImhNyWDgORZU",
        "colab_type": "code",
        "outputId": "89a07d74-7244-4f9b-b355-d782a5a7a444",
        "colab": {
          "base_uri": "https://localhost:8080/",
          "height": 63
        }
      },
      "source": [
        "import numpy as np\n",
        "import pandas as pd\n",
        "import matplotlib.pyplot as plt\n",
        "import tensorflow as tf\n",
        "import scipy as scp\n",
        "import sklearn as skl\n",
        "import antigravity as something_that_i_always_use"
      ],
      "execution_count": 0,
      "outputs": [
        {
          "output_type": "display_data",
          "data": {
            "text/html": [
              "<p style=\"color: red;\">\n",
              "The default version of TensorFlow in Colab will soon switch to TensorFlow 2.x.<br>\n",
              "We recommend you <a href=\"https://www.tensorflow.org/guide/migrate\" target=\"_blank\">upgrade</a> now \n",
              "or ensure your notebook will continue to use TensorFlow 1.x via the <code>%tensorflow_version 1.x</code> magic:\n",
              "<a href=\"https://colab.research.google.com/notebooks/tensorflow_version.ipynb\" target=\"_blank\">more info</a>.</p>\n"
            ],
            "text/plain": [
              "<IPython.core.display.HTML object>"
            ]
          },
          "metadata": {
            "tags": []
          }
        }
      ]
    },
    {
      "cell_type": "code",
      "metadata": {
        "id": "VfOKCieIKtwR",
        "colab_type": "code",
        "cellView": "code",
        "colab": {}
      },
      "source": [
        "import re\n",
        "\n",
        "def penis_parser(msg):\n",
        "    return \" \".join(list([\"penis\" for word in re.split(' +', msg)]))"
      ],
      "execution_count": 0,
      "outputs": []
    },
    {
      "cell_type": "code",
      "metadata": {
        "id": "cLTbLwUrQeeJ",
        "colab_type": "code",
        "cellView": "form",
        "outputId": "b1106681-f883-4c4f-a860-ed73179f4022",
        "colab": {
          "base_uri": "https://localhost:8080/",
          "height": 204
        }
      },
      "source": [
        "#@title Penis Parser Form\n",
        "\n",
        "text = 'you lose the game' #@param {type:\"string\"}\n",
        "\n",
        "import time\n",
        "from tqdm import tqdm\n",
        "\n",
        "def loading_parser_timeup(text):\n",
        "    print('Tensor Parser 6.9b ')\n",
        "    print('Loading parser...\\n')\n",
        "    time.sleep(.5)\n",
        "    for i in tqdm(range(10)):\n",
        "        time.sleep(.5)\n",
        "    print('\\nParser loaded!')\n",
        "    print('Parsing message. This can take a while...')\n",
        "    time.sleep(.5)\n",
        "    for i in tqdm(range(10)):\n",
        "        time.sleep(3)\n",
        "\n",
        "    print('\\n')\n",
        "    print(penis_parser(text))\n",
        "\n",
        "\n",
        "\n",
        "loading_parser_timeup(text)\n"
      ],
      "execution_count": 0,
      "outputs": [
        {
          "output_type": "stream",
          "text": [
            "Tensor Parser 6.9b \n",
            "Loading parser...\n",
            "\n"
          ],
          "name": "stdout"
        },
        {
          "output_type": "stream",
          "text": [
            "100%|██████████| 10/10 [00:05<00:00,  1.99it/s]\n"
          ],
          "name": "stderr"
        },
        {
          "output_type": "stream",
          "text": [
            "\n",
            "Parser loaded!\n",
            "Parsing message. This can take a while...\n"
          ],
          "name": "stdout"
        },
        {
          "output_type": "stream",
          "text": [
            "100%|██████████| 10/10 [00:30<00:00,  3.00s/it]"
          ],
          "name": "stderr"
        },
        {
          "output_type": "stream",
          "text": [
            "\n",
            "\n",
            "penis penis penis penis\n"
          ],
          "name": "stdout"
        },
        {
          "output_type": "stream",
          "text": [
            "\n"
          ],
          "name": "stderr"
        }
      ]
    },
    {
      "cell_type": "code",
      "metadata": {
        "id": "X4BZdDv1S0LK",
        "colab_type": "code",
        "outputId": "f30d2ec6-be32-4bb0-deaf-71690fe62106",
        "colab": {
          "base_uri": "https://localhost:8080/",
          "height": 281
        }
      },
      "source": [
        "plt.title('Random Graph')\n",
        "plt.plot(np.sin(np.linspace(0, 8)))\n",
        "plt.show()"
      ],
      "execution_count": 0,
      "outputs": [
        {
          "output_type": "display_data",
          "data": {
            "image/png": "[encoded data removed]",
            "text/plain": [
              "<Figure size 432x288 with 1 Axes>"
            ]
          },
          "metadata": {
            "tags": []
          }
        }
      ]
    }
  ]
}